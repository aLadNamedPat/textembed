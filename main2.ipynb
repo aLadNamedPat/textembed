{
 "cells": [
  {
   "cell_type": "code",
   "execution_count": 19,
   "metadata": {},
   "outputs": [],
   "source": [
    "import pandas as pd\n",
    "import gensim"
   ]
  },
  {
   "cell_type": "code",
   "execution_count": 5,
   "metadata": {},
   "outputs": [
    {
     "data": {
      "text/html": [
       "<div>\n",
       "<style scoped>\n",
       "    .dataframe tbody tr th:only-of-type {\n",
       "        vertical-align: middle;\n",
       "    }\n",
       "\n",
       "    .dataframe tbody tr th {\n",
       "        vertical-align: top;\n",
       "    }\n",
       "\n",
       "    .dataframe thead th {\n",
       "        text-align: right;\n",
       "    }\n",
       "</style>\n",
       "<table border=\"1\" class=\"dataframe\">\n",
       "  <thead>\n",
       "    <tr style=\"text-align: right;\">\n",
       "      <th></th>\n",
       "      <th>in_reply_to_status_id</th>\n",
       "      <th>contributors</th>\n",
       "      <th>filter_level</th>\n",
       "      <th>coordinates</th>\n",
       "      <th>id_str</th>\n",
       "      <th>favorited</th>\n",
       "      <th>created_at</th>\n",
       "      <th>favorite_count</th>\n",
       "      <th>in_reply_to_status_id_str</th>\n",
       "      <th>retweeted_status</th>\n",
       "      <th>...</th>\n",
       "      <th>in_reply_to_user_id_str</th>\n",
       "      <th>lang</th>\n",
       "      <th>retweet_count</th>\n",
       "      <th>timestamp_ms</th>\n",
       "      <th>user</th>\n",
       "      <th>geo</th>\n",
       "      <th>possibly_sensitive</th>\n",
       "      <th>entities</th>\n",
       "      <th>source</th>\n",
       "      <th>extended_entities</th>\n",
       "    </tr>\n",
       "  </thead>\n",
       "  <tbody>\n",
       "    <tr>\n",
       "      <th>0</th>\n",
       "      <td>NaN</td>\n",
       "      <td>NaN</td>\n",
       "      <td>low</td>\n",
       "      <td>None</td>\n",
       "      <td>593891099434983424</td>\n",
       "      <td>False</td>\n",
       "      <td>2015-04-30 21:34:06+00:00</td>\n",
       "      <td>0</td>\n",
       "      <td>NaN</td>\n",
       "      <td>{'in_reply_to_status_id': None, 'contributors'...</td>\n",
       "      <td>...</td>\n",
       "      <td>NaN</td>\n",
       "      <td>en</td>\n",
       "      <td>0</td>\n",
       "      <td>2015-04-30 21:34:06.725</td>\n",
       "      <td>{'statuses_count': 74617, 'id_str': '107794703...</td>\n",
       "      <td>None</td>\n",
       "      <td>False</td>\n",
       "      <td>{'symbols': [], 'trends': [], 'user_mentions':...</td>\n",
       "      <td>&lt;a href=\"http://twitter.com\" rel=\"nofollow\"&gt;Tw...</td>\n",
       "      <td>NaN</td>\n",
       "    </tr>\n",
       "    <tr>\n",
       "      <th>1</th>\n",
       "      <td>NaN</td>\n",
       "      <td>NaN</td>\n",
       "      <td>low</td>\n",
       "      <td>None</td>\n",
       "      <td>593891099548094464</td>\n",
       "      <td>False</td>\n",
       "      <td>2015-04-30 21:34:06+00:00</td>\n",
       "      <td>0</td>\n",
       "      <td>NaN</td>\n",
       "      <td>NaN</td>\n",
       "      <td>...</td>\n",
       "      <td>NaN</td>\n",
       "      <td>en</td>\n",
       "      <td>0</td>\n",
       "      <td>2015-04-30 21:34:06.752</td>\n",
       "      <td>{'statuses_count': 126843, 'id_str': '55742250...</td>\n",
       "      <td>None</td>\n",
       "      <td>False</td>\n",
       "      <td>{'symbols': [], 'trends': [], 'user_mentions':...</td>\n",
       "      <td>&lt;a href=\"http://dlvr.it\" rel=\"nofollow\"&gt;dlvr.i...</td>\n",
       "      <td>NaN</td>\n",
       "    </tr>\n",
       "    <tr>\n",
       "      <th>2</th>\n",
       "      <td>NaN</td>\n",
       "      <td>NaN</td>\n",
       "      <td>low</td>\n",
       "      <td>None</td>\n",
       "      <td>593891099388846080</td>\n",
       "      <td>False</td>\n",
       "      <td>2015-04-30 21:34:06+00:00</td>\n",
       "      <td>0</td>\n",
       "      <td>NaN</td>\n",
       "      <td>{'in_reply_to_status_id': None, 'contributors'...</td>\n",
       "      <td>...</td>\n",
       "      <td>NaN</td>\n",
       "      <td>en</td>\n",
       "      <td>0</td>\n",
       "      <td>2015-04-30 21:34:06.714</td>\n",
       "      <td>{'statuses_count': 4571, 'id_str': '3006692193...</td>\n",
       "      <td>None</td>\n",
       "      <td>False</td>\n",
       "      <td>{'media': [{'type': 'photo', 'source_status_id...</td>\n",
       "      <td>&lt;a href=\"http://twitter.com/download/android\" ...</td>\n",
       "      <td>{'media': [{'type': 'photo', 'source_status_id...</td>\n",
       "    </tr>\n",
       "    <tr>\n",
       "      <th>3</th>\n",
       "      <td>NaN</td>\n",
       "      <td>NaN</td>\n",
       "      <td>low</td>\n",
       "      <td>None</td>\n",
       "      <td>593891100429045760</td>\n",
       "      <td>False</td>\n",
       "      <td>2015-04-30 21:34:06+00:00</td>\n",
       "      <td>0</td>\n",
       "      <td>NaN</td>\n",
       "      <td>{'in_reply_to_status_id': None, 'contributors'...</td>\n",
       "      <td>...</td>\n",
       "      <td>NaN</td>\n",
       "      <td>en</td>\n",
       "      <td>0</td>\n",
       "      <td>2015-04-30 21:34:06.962</td>\n",
       "      <td>{'statuses_count': 7119, 'id_str': '455154030'...</td>\n",
       "      <td>None</td>\n",
       "      <td>False</td>\n",
       "      <td>{'media': [{'type': 'photo', 'source_status_id...</td>\n",
       "      <td>&lt;a href=\"http://twitter.com/download/iphone\" r...</td>\n",
       "      <td>{'media': [{'type': 'photo', 'source_status_id...</td>\n",
       "    </tr>\n",
       "    <tr>\n",
       "      <th>4</th>\n",
       "      <td>NaN</td>\n",
       "      <td>NaN</td>\n",
       "      <td>low</td>\n",
       "      <td>None</td>\n",
       "      <td>593891100768784384</td>\n",
       "      <td>False</td>\n",
       "      <td>2015-04-30 21:34:07+00:00</td>\n",
       "      <td>0</td>\n",
       "      <td>NaN</td>\n",
       "      <td>{'in_reply_to_status_id': None, 'contributors'...</td>\n",
       "      <td>...</td>\n",
       "      <td>NaN</td>\n",
       "      <td>en</td>\n",
       "      <td>0</td>\n",
       "      <td>2015-04-30 21:34:07.043</td>\n",
       "      <td>{'statuses_count': 3543, 'id_str': '187547338'...</td>\n",
       "      <td>None</td>\n",
       "      <td>False</td>\n",
       "      <td>{'media': [{'type': 'photo', 'source_status_id...</td>\n",
       "      <td>&lt;a href=\"http://tapbots.com/tweetbot\" rel=\"nof...</td>\n",
       "      <td>{'media': [{'type': 'photo', 'source_status_id...</td>\n",
       "    </tr>\n",
       "  </tbody>\n",
       "</table>\n",
       "<p>5 rows × 27 columns</p>\n",
       "</div>"
      ],
      "text/plain": [
       "   in_reply_to_status_id  contributors filter_level coordinates  \\\n",
       "0                    NaN           NaN          low        None   \n",
       "1                    NaN           NaN          low        None   \n",
       "2                    NaN           NaN          low        None   \n",
       "3                    NaN           NaN          low        None   \n",
       "4                    NaN           NaN          low        None   \n",
       "\n",
       "               id_str  favorited                created_at  favorite_count  \\\n",
       "0  593891099434983424      False 2015-04-30 21:34:06+00:00               0   \n",
       "1  593891099548094464      False 2015-04-30 21:34:06+00:00               0   \n",
       "2  593891099388846080      False 2015-04-30 21:34:06+00:00               0   \n",
       "3  593891100429045760      False 2015-04-30 21:34:06+00:00               0   \n",
       "4  593891100768784384      False 2015-04-30 21:34:07+00:00               0   \n",
       "\n",
       "   in_reply_to_status_id_str  \\\n",
       "0                        NaN   \n",
       "1                        NaN   \n",
       "2                        NaN   \n",
       "3                        NaN   \n",
       "4                        NaN   \n",
       "\n",
       "                                    retweeted_status  ...  \\\n",
       "0  {'in_reply_to_status_id': None, 'contributors'...  ...   \n",
       "1                                                NaN  ...   \n",
       "2  {'in_reply_to_status_id': None, 'contributors'...  ...   \n",
       "3  {'in_reply_to_status_id': None, 'contributors'...  ...   \n",
       "4  {'in_reply_to_status_id': None, 'contributors'...  ...   \n",
       "\n",
       "   in_reply_to_user_id_str lang retweet_count            timestamp_ms  \\\n",
       "0                      NaN   en             0 2015-04-30 21:34:06.725   \n",
       "1                      NaN   en             0 2015-04-30 21:34:06.752   \n",
       "2                      NaN   en             0 2015-04-30 21:34:06.714   \n",
       "3                      NaN   en             0 2015-04-30 21:34:06.962   \n",
       "4                      NaN   en             0 2015-04-30 21:34:07.043   \n",
       "\n",
       "                                                user   geo possibly_sensitive  \\\n",
       "0  {'statuses_count': 74617, 'id_str': '107794703...  None              False   \n",
       "1  {'statuses_count': 126843, 'id_str': '55742250...  None              False   \n",
       "2  {'statuses_count': 4571, 'id_str': '3006692193...  None              False   \n",
       "3  {'statuses_count': 7119, 'id_str': '455154030'...  None              False   \n",
       "4  {'statuses_count': 3543, 'id_str': '187547338'...  None              False   \n",
       "\n",
       "                                            entities  \\\n",
       "0  {'symbols': [], 'trends': [], 'user_mentions':...   \n",
       "1  {'symbols': [], 'trends': [], 'user_mentions':...   \n",
       "2  {'media': [{'type': 'photo', 'source_status_id...   \n",
       "3  {'media': [{'type': 'photo', 'source_status_id...   \n",
       "4  {'media': [{'type': 'photo', 'source_status_id...   \n",
       "\n",
       "                                              source  \\\n",
       "0  <a href=\"http://twitter.com\" rel=\"nofollow\">Tw...   \n",
       "1  <a href=\"http://dlvr.it\" rel=\"nofollow\">dlvr.i...   \n",
       "2  <a href=\"http://twitter.com/download/android\" ...   \n",
       "3  <a href=\"http://twitter.com/download/iphone\" r...   \n",
       "4  <a href=\"http://tapbots.com/tweetbot\" rel=\"nof...   \n",
       "\n",
       "                                   extended_entities  \n",
       "0                                                NaN  \n",
       "1                                                NaN  \n",
       "2  {'media': [{'type': 'photo', 'source_status_id...  \n",
       "3  {'media': [{'type': 'photo', 'source_status_id...  \n",
       "4  {'media': [{'type': 'photo', 'source_status_id...  \n",
       "\n",
       "[5 rows x 27 columns]"
      ]
     },
     "execution_count": 5,
     "metadata": {},
     "output_type": "execute_result"
    }
   ],
   "source": [
    "df = pd.read_json(\"tweetsamples.json\", lines = True)\n",
    "df.head()"
   ]
  },
  {
   "cell_type": "code",
   "execution_count": 12,
   "metadata": {},
   "outputs": [
    {
     "data": {
      "text/plain": [
       "'RT @KirkKus: Indirect cost of the UK being in the EU is estimated to be costing Britain £170 billion per year! #BetterOffOut #UKIP'"
      ]
     },
     "execution_count": 12,
     "metadata": {},
     "output_type": "execute_result"
    }
   ],
   "source": [
    "df.text[0]"
   ]
  },
  {
   "cell_type": "code",
   "execution_count": 13,
   "metadata": {},
   "outputs": [],
   "source": [
    "data = df.text"
   ]
  },
  {
   "cell_type": "code",
   "execution_count": 14,
   "metadata": {},
   "outputs": [
    {
     "name": "stderr",
     "output_type": "stream",
     "text": [
      "C:\\Users\\Patth\\AppData\\Local\\Temp\\ipykernel_3048\\3011791584.py:1: FutureWarning: The default value of regex will change from True to False in a future version.\n",
      "  data = data.str.replace(r'[^\\w\\s]+', '')\n"
     ]
    }
   ],
   "source": [
    "data = data.str.replace(r'[^\\w\\s]+', '')"
   ]
  },
  {
   "cell_type": "code",
   "execution_count": 16,
   "metadata": {},
   "outputs": [],
   "source": [
    "data = data.str.replace(\"RT \", \"\")"
   ]
  },
  {
   "cell_type": "code",
   "execution_count": 23,
   "metadata": {},
   "outputs": [
    {
     "data": {
      "text/plain": [
       "0        [kirkkus, indirect, cost, of, the, uk, being, ...\n",
       "1               [video, sturgeon, on, postelection, deals]\n",
       "2        [laboureoin, the, economy, was, growing, times...\n",
       "3        [greglauder, the, ukip, east, lothian, candida...\n",
       "4        [thesundaypeople, ukips, housing, spokesman, r...\n",
       "                               ...                        \n",
       "19995    [uklabour, ed_miliband, were, not, going, to, ...\n",
       "19996    [disabledscot, blairmcdougall, scotlandtonight...\n",
       "19997    [staircase, vividricky, exactly, but, that, al...\n",
       "19998    [actually, agreed, with, of, what, farage, was...\n",
       "19999    [peatworrier, vote, for, the, snp, is, er, vot...\n",
       "Name: text, Length: 20000, dtype: object"
      ]
     },
     "execution_count": 23,
     "metadata": {},
     "output_type": "execute_result"
    }
   ],
   "source": [
    "preprocessed_data = data.apply(gensim.utils.simple_preprocess)\n",
    "preprocessed_data"
   ]
  },
  {
   "cell_type": "code",
   "execution_count": 38,
   "metadata": {},
   "outputs": [],
   "source": [
    "model = gensim.models.Word2Vec(\n",
    "    window = 10,\n",
    "    min_count = 2,\n",
    "    workers = 4, \n",
    "    vector_size=5\n",
    ")"
   ]
  },
  {
   "cell_type": "code",
   "execution_count": 39,
   "metadata": {},
   "outputs": [],
   "source": [
    "model.build_vocab(preprocessed_data, progress_per = 1000)"
   ]
  },
  {
   "cell_type": "code",
   "execution_count": 40,
   "metadata": {},
   "outputs": [
    {
     "data": {
      "text/plain": [
       "5"
      ]
     },
     "execution_count": 40,
     "metadata": {},
     "output_type": "execute_result"
    }
   ],
   "source": [
    "model.epochs"
   ]
  },
  {
   "cell_type": "code",
   "execution_count": 41,
   "metadata": {},
   "outputs": [
    {
     "data": {
      "text/plain": [
       "20000"
      ]
     },
     "execution_count": 41,
     "metadata": {},
     "output_type": "execute_result"
    }
   ],
   "source": [
    "model.corpus_count"
   ]
  },
  {
   "cell_type": "code",
   "execution_count": 42,
   "metadata": {},
   "outputs": [
    {
     "data": {
      "text/plain": [
       "(1366624, 1765885)"
      ]
     },
     "execution_count": 42,
     "metadata": {},
     "output_type": "execute_result"
    }
   ],
   "source": [
    "model.train(preprocessed_data, total_examples=model.corpus_count, epochs = model.epochs)"
   ]
  },
  {
   "cell_type": "code",
   "execution_count": 46,
   "metadata": {},
   "outputs": [
    {
     "name": "stdout",
     "output_type": "stream",
     "text": [
      "[ 2.559797   6.035459   1.0900536 -4.2660894 -5.107238 ]\n"
     ]
    }
   ],
   "source": [
    "model.wv.most_similar(\"woman\")\n",
    "print(model.wv[\"man\"])"
   ]
  },
  {
   "cell_type": "code",
   "execution_count": 44,
   "metadata": {},
   "outputs": [
    {
     "data": {
      "text/plain": [
       "0.45700106"
      ]
     },
     "execution_count": 44,
     "metadata": {},
     "output_type": "execute_result"
    }
   ],
   "source": [
    "model.wv.similarity(w1 = \"woman\", w2 = \"man\")"
   ]
  }
 ],
 "metadata": {
  "kernelspec": {
   "display_name": "Python 3",
   "language": "python",
   "name": "python3"
  },
  "language_info": {
   "codemirror_mode": {
    "name": "ipython",
    "version": 3
   },
   "file_extension": ".py",
   "mimetype": "text/x-python",
   "name": "python",
   "nbconvert_exporter": "python",
   "pygments_lexer": "ipython3",
   "version": "3.9.13"
  },
  "orig_nbformat": 4,
  "vscode": {
   "interpreter": {
    "hash": "cec5dad8edb4b42118c4154c5fdcb2dab2ddc2b418b257537a698600ac1d4a7d"
   }
  }
 },
 "nbformat": 4,
 "nbformat_minor": 2
}
